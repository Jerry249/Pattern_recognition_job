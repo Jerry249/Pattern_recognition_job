{
 "cells": [
  {
   "cell_type": "code",
   "execution_count": 9,
   "metadata": {},
   "outputs": [],
   "source": [
    "import torch\n",
    "import torch.nn.functional as F\n",
    "import torch.nn.init as init\n",
    "import math\n",
    "import numpy as np\n",
    "import pandas as pd\n",
    "from torch.autograd import Variable\n",
    "import matplotlib.pyplot as plt\n",
    "from sklearn.model_selection import train_test_split\n",
    "from sklearn.preprocessing import StandardScaler\n",
    "#从本地读取数据\n",
    "diabetes_data = pd.read_csv('diabetes.csv')\n",
    "colume = ['Glucose', 'BloodPressure', 'SkinThickness', 'Insulin', 'BMI']\n",
    "\n",
    "diabetes_data[colume] = diabetes_data[colume].replace(0,np.nan)\n",
    "thresh_count = diabetes_data.shape[0]*0.8\n",
    "diabetes_data = diabetes_data.dropna(thresh=thresh_count, axis=1)\n",
    "from sklearn.impute import SimpleImputer\n",
    "imr = SimpleImputer(strategy='mean')\n",
    "\n",
    "colume=['Glucose', 'BloodPressure', 'BMI']\n",
    "diabetes_data[colume] = imr.fit_transform(diabetes_data[colume])\n",
    "\n",
    "x = diabetes_data.drop(\"Outcome\",axis = 1)\n",
    "y = diabetes_data.Outcome\n",
    "x = x.values\n",
    "y = y.values\n",
    "x = Variable(torch.from_numpy(x))\n",
    "y = Variable(torch.from_numpy(y))\n",
    "from sklearn.model_selection import train_test_split\n",
    "\n",
    "x_train,x_test,y_train,y_test = train_test_split(x.numpy(),y.numpy(),test_size=0.3, stratify=y)\n",
    "ss = StandardScaler()  \n",
    "#特征归一化\n",
    "x_train = Variable(torch.tensor(ss.fit_transform(x_train)))\n",
    "x_test = Variable(torch.tensor(ss.fit_transform(x_test)))\n",
    "y_train = Variable(torch.tensor(y_train))\n",
    "y_test = Variable(torch.tensor(y_test))"
   ]
  },
  {
   "cell_type": "code",
   "execution_count": 35,
   "metadata": {},
   "outputs": [
    {
     "name": "stderr",
     "output_type": "stream",
     "text": [
      "d:\\program_files\\anaconda3\\envs\\pytorch\\lib\\site-packages\\ipykernel_launcher.py:26: UserWarning: To copy construct from a tensor, it is recommended to use sourceTensor.clone().detach() or sourceTensor.clone().detach().requires_grad_(True), rather than torch.tensor(sourceTensor).\n"
     ]
    },
    {
     "name": "stdout",
     "output_type": "stream",
     "text": [
      "corrects: tensor(187)\n",
      "epoch = 0, loss = 0.727455198764801, acc = 0.34823091247672255\n",
      "corrects: tensor(350)\n",
      "epoch = 100, loss = 0.6878438591957092, acc = 0.6517690875232774\n",
      "corrects: tensor(350)\n",
      "epoch = 200, loss = 0.666032075881958, acc = 0.6517690875232774\n",
      "corrects: tensor(350)\n",
      "epoch = 300, loss = 0.6552706360816956, acc = 0.6517690875232774\n",
      "corrects: tensor(350)\n",
      "epoch = 400, loss = 0.6499410271644592, acc = 0.6517690875232774\n",
      "corrects: tensor(350)\n",
      "epoch = 500, loss = 0.6472625732421875, acc = 0.6517690875232774\n",
      "corrects: tensor(350)\n",
      "epoch = 600, loss = 0.6458455324172974, acc = 0.6517690875232774\n",
      "corrects: tensor(350)\n",
      "epoch = 700, loss = 0.6449920535087585, acc = 0.6517690875232774\n",
      "corrects: tensor(350)\n",
      "epoch = 800, loss = 0.6443646550178528, acc = 0.6517690875232774\n",
      "corrects: tensor(350)\n",
      "epoch = 900, loss = 0.6437545418739319, acc = 0.6517690875232774\n",
      "corrects: tensor(350)\n",
      "epoch = 1000, loss = 0.643103301525116, acc = 0.6517690875232774\n",
      "corrects: tensor(350)\n",
      "epoch = 1100, loss = 0.6424710750579834, acc = 0.6517690875232774\n",
      "corrects: tensor(350)\n",
      "epoch = 1200, loss = 0.6417425274848938, acc = 0.6517690875232774\n",
      "corrects: tensor(350)\n",
      "epoch = 1300, loss = 0.6408929228782654, acc = 0.6517690875232774\n",
      "corrects: tensor(350)\n",
      "epoch = 1400, loss = 0.6398698687553406, acc = 0.6517690875232774\n",
      "corrects: tensor(350)\n",
      "epoch = 1500, loss = 0.6386012434959412, acc = 0.6517690875232774\n",
      "corrects: tensor(350)\n",
      "epoch = 1600, loss = 0.6370195746421814, acc = 0.6517690875232774\n",
      "corrects: tensor(350)\n",
      "epoch = 1700, loss = 0.635010838508606, acc = 0.6517690875232774\n",
      "corrects: tensor(350)\n",
      "epoch = 1800, loss = 0.6323787569999695, acc = 0.6517690875232774\n",
      "corrects: tensor(350)\n",
      "epoch = 1900, loss = 0.628873348236084, acc = 0.6517690875232774\n",
      "corrects: tensor(350)\n",
      "epoch = 2000, loss = 0.6241890788078308, acc = 0.6517690875232774\n",
      "corrects: tensor(350)\n",
      "epoch = 2100, loss = 0.6179876923561096, acc = 0.6517690875232774\n",
      "corrects: tensor(350)\n",
      "epoch = 2200, loss = 0.6098341941833496, acc = 0.6517690875232774\n",
      "corrects: tensor(353)\n",
      "epoch = 2300, loss = 0.5993762016296387, acc = 0.6573556797020484\n",
      "corrects: tensor(366)\n",
      "epoch = 2400, loss = 0.58641117811203, acc = 0.6815642458100558\n",
      "corrects: tensor(386)\n",
      "epoch = 2500, loss = 0.5717342495918274, acc = 0.7188081936685289\n",
      "corrects: tensor(393)\n",
      "epoch = 2600, loss = 0.5559698343276978, acc = 0.7318435754189944\n",
      "corrects: tensor(400)\n",
      "epoch = 2700, loss = 0.5405402779579163, acc = 0.74487895716946\n",
      "corrects: tensor(404)\n",
      "epoch = 2800, loss = 0.527061402797699, acc = 0.7523277467411545\n",
      "corrects: tensor(406)\n",
      "epoch = 2900, loss = 0.516171395778656, acc = 0.7560521415270018\n",
      "corrects: tensor(411)\n",
      "epoch = 3000, loss = 0.5077981352806091, acc = 0.7653631284916201\n",
      "corrects: tensor(406)\n",
      "epoch = 3100, loss = 0.5013260841369629, acc = 0.7560521415270018\n",
      "corrects: tensor(407)\n",
      "epoch = 3200, loss = 0.49613234400749207, acc = 0.7579143389199255\n",
      "corrects: tensor(409)\n",
      "epoch = 3300, loss = 0.49191921949386597, acc = 0.7616387337057728\n",
      "corrects: tensor(409)\n",
      "epoch = 3400, loss = 0.4883415997028351, acc = 0.7616387337057728\n",
      "corrects: tensor(408)\n",
      "epoch = 3500, loss = 0.48527973890304565, acc = 0.7597765363128491\n",
      "corrects: tensor(406)\n",
      "epoch = 3600, loss = 0.4826068580150604, acc = 0.7560521415270018\n",
      "corrects: tensor(404)\n",
      "epoch = 3700, loss = 0.48012658953666687, acc = 0.7523277467411545\n",
      "corrects: tensor(404)\n",
      "epoch = 3800, loss = 0.47782525420188904, acc = 0.7523277467411545\n",
      "corrects: tensor(403)\n",
      "epoch = 3900, loss = 0.4756772220134735, acc = 0.750465549348231\n",
      "corrects: tensor(403)\n",
      "epoch = 4000, loss = 0.4735850691795349, acc = 0.750465549348231\n",
      "corrects: tensor(401)\n",
      "epoch = 4100, loss = 0.4715292453765869, acc = 0.7467411545623837\n",
      "corrects: tensor(403)\n",
      "epoch = 4200, loss = 0.46951693296432495, acc = 0.750465549348231\n",
      "corrects: tensor(404)\n",
      "epoch = 4300, loss = 0.46756601333618164, acc = 0.7523277467411545\n",
      "corrects: tensor(405)\n",
      "epoch = 4400, loss = 0.46568986773490906, acc = 0.7541899441340782\n",
      "corrects: tensor(406)\n",
      "epoch = 4500, loss = 0.46387603878974915, acc = 0.7560521415270018\n",
      "corrects: tensor(405)\n",
      "epoch = 4600, loss = 0.46212905645370483, acc = 0.7541899441340782\n",
      "corrects: tensor(405)\n",
      "epoch = 4700, loss = 0.46045732498168945, acc = 0.7541899441340782\n",
      "corrects: tensor(410)\n",
      "epoch = 4800, loss = 0.45888298749923706, acc = 0.7635009310986964\n",
      "corrects: tensor(408)\n",
      "epoch = 4900, loss = 0.457337349653244, acc = 0.7597765363128491\n",
      "corrects: tensor(410)\n",
      "epoch = 5000, loss = 0.4557919204235077, acc = 0.7635009310986964\n",
      "corrects: tensor(409)\n",
      "epoch = 5100, loss = 0.4542646110057831, acc = 0.7616387337057728\n",
      "corrects: tensor(410)\n",
      "epoch = 5200, loss = 0.4526802897453308, acc = 0.7635009310986964\n",
      "corrects: tensor(410)\n",
      "epoch = 5300, loss = 0.45109689235687256, acc = 0.7635009310986964\n",
      "corrects: tensor(411)\n",
      "epoch = 5400, loss = 0.44957610964775085, acc = 0.7653631284916201\n",
      "corrects: tensor(411)\n",
      "epoch = 5500, loss = 0.4479842782020569, acc = 0.7653631284916201\n",
      "corrects: tensor(410)\n",
      "epoch = 5600, loss = 0.4464541971683502, acc = 0.7635009310986964\n",
      "corrects: tensor(411)\n",
      "epoch = 5700, loss = 0.4449436664581299, acc = 0.7653631284916201\n",
      "corrects: tensor(411)\n",
      "epoch = 5800, loss = 0.44333863258361816, acc = 0.7653631284916201\n",
      "corrects: tensor(408)\n",
      "epoch = 5900, loss = 0.44173872470855713, acc = 0.7597765363128491\n",
      "corrects: tensor(409)\n",
      "epoch = 6000, loss = 0.44010281562805176, acc = 0.7616387337057728\n",
      "corrects: tensor(409)\n",
      "epoch = 6100, loss = 0.43833988904953003, acc = 0.7616387337057728\n",
      "corrects: tensor(411)\n",
      "epoch = 6200, loss = 0.4365558922290802, acc = 0.7653631284916201\n",
      "corrects: tensor(412)\n",
      "epoch = 6300, loss = 0.4347042143344879, acc = 0.7672253258845437\n",
      "corrects: tensor(412)\n",
      "epoch = 6400, loss = 0.43288111686706543, acc = 0.7672253258845437\n",
      "corrects: tensor(413)\n",
      "epoch = 6500, loss = 0.43116727471351624, acc = 0.7690875232774674\n",
      "corrects: tensor(417)\n",
      "epoch = 6600, loss = 0.4295472204685211, acc = 0.776536312849162\n",
      "corrects: tensor(419)\n",
      "epoch = 6700, loss = 0.42792633175849915, acc = 0.7802607076350093\n",
      "corrects: tensor(419)\n",
      "epoch = 6800, loss = 0.42622870206832886, acc = 0.7802607076350093\n",
      "corrects: tensor(420)\n",
      "epoch = 6900, loss = 0.4245220124721527, acc = 0.7821229050279329\n"
     ]
    }
   ],
   "source": [
    "class Model(torch.nn.Module):\n",
    "    def __init__(self):\n",
    "        super(Model, self).__init__()\n",
    "        self.l1 = torch.nn.Linear(6, 20)  \n",
    "        self.l2 = torch.nn.Linear(20, 20)\n",
    "        self.l3 = torch.nn.Linear(20, 20)\n",
    "        self.l4 = torch.nn.Linear(20, 20)\n",
    "        self.l5 = torch.nn.Linear(20, 1)\n",
    "    def forward(self, x):\n",
    "        x = F.relu(self.l1(x.float()))\n",
    "        x = F.relu(self.l2(x))\n",
    "        x = F.relu(self.l3(x))\n",
    "        x = F.relu(self.l4(x))\n",
    "        x = self.l5(x)\n",
    "        return x\n",
    "model = Model()\n",
    "#model.apply(weights_init)\n",
    "criterion = torch.nn.BCEWithLogitsLoss()\n",
    "optimizer = torch.optim.SGD(model.parameters(), lr=1e-3, momentum=0.9)\n",
    "Loss = []\n",
    "Acc = []\n",
    "EPOCHS = 7000\n",
    "for epoch in range(EPOCHS):\n",
    "    y_pred = model(x_train)\n",
    "    loss = criterion(y_pred, y_train.float().view(-1,1))\n",
    "    preds = torch.tensor(y_pred >= 0)\n",
    "    corrects = torch.sum(preds.byte() == y_train.view(-1,1).byte())\n",
    "    acc = corrects.item()/len(x_train)\n",
    "    if epoch%100 == 0:\n",
    "        print(\"corrects:\",corrects)\n",
    "        print(\"epoch = {0}, loss = {1}, acc = {2}\".format(epoch, loss, acc))\n",
    "        Loss.append(loss)\n",
    "        Acc.append(acc)\n",
    "    optimizer.zero_grad()\n",
    "    loss.backward()\n",
    "    optimizer.step()"
   ]
  },
  {
   "cell_type": "code",
   "execution_count": 41,
   "metadata": {},
   "outputs": [
    {
     "data": {
      "image/png": "[encoded data removed]",
      "text/plain": [
       "<Figure size 432x288 with 1 Axes>"
      ]
     },
     "metadata": {
      "needs_background": "light"
     },
     "output_type": "display_data"
    },
    {
     "data": {
      "image/png": "[encoded data removed]",
      "text/plain": [
       "<Figure size 432x288 with 1 Axes>"
      ]
     },
     "metadata": {
      "needs_background": "light"
     },
     "output_type": "display_data"
    }
   ],
   "source": [
    "#-*- coding: utf-8 -*-\n",
    "plt.plot(range(len(Loss)), Loss)\n",
    "plt.ylabel('loss')\n",
    "plt.xlabel('epochs')\n",
    "plt.show()\n",
    "plt.plot(range(len(Acc)), Acc)\n",
    "plt.ylabel('acc')\n",
    "plt.xlabel('epochs')\n",
    "plt.show()"
   ]
  },
  {
   "cell_type": "code",
   "execution_count": 37,
   "metadata": {},
   "outputs": [
    {
     "name": "stdout",
     "output_type": "stream",
     "text": [
      "corrects: 191\n",
      "acc = 0.8268398268398268\n"
     ]
    },
    {
     "name": "stderr",
     "output_type": "stream",
     "text": [
      "d:\\program_files\\anaconda3\\envs\\pytorch\\lib\\site-packages\\ipykernel_launcher.py:2: UserWarning: To copy construct from a tensor, it is recommended to use sourceTensor.clone().detach() or sourceTensor.clone().detach().requires_grad_(True), rather than torch.tensor(sourceTensor).\n",
      "  \n"
     ]
    }
   ],
   "source": [
    "y_pred = model(x_test)\n",
    "preds = torch.tensor(y_pred >= 0)\n",
    "corrects = torch.sum(preds.byte() == y_test.view(-1,1).byte())\n",
    "acc = corrects.item()/len(x_test)\n",
    "print(\"corrects:\",corrects.numpy().item())\n",
    "print(\"acc = {}\".format(acc))"
   ]
  },
  {
   "cell_type": "code",
   "execution_count": null,
   "metadata": {},
   "outputs": [],
   "source": []
  }
 ],
 "metadata": {
  "kernelspec": {
   "display_name": "Python 3",
   "language": "python",
   "name": "python3"
  },
  "language_info": {
   "codemirror_mode": {
    "name": "ipython",
    "version": 3
   },
   "file_extension": ".py",
   "mimetype": "text/x-python",
   "name": "python",
   "nbconvert_exporter": "python",
   "pygments_lexer": "ipython3",
   "version": "3.6.10"
  }
 },
 "nbformat": 4,
 "nbformat_minor": 4
}
